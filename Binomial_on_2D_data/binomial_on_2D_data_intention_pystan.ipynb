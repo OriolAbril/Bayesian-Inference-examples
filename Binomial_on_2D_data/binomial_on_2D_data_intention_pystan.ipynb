{
 "cells": [
  {
   "cell_type": "markdown",
   "metadata": {},
   "source": [
    "# Binomial on 2D data\n",
    "\n",
    "Our model will be a betabinomial distribution per bin on a 2D grid. One dimension will be the distance to the sea (i.e. longitude if the sea shore is North-South) and the second would be distance to the river (i.e. latitude following the provious example). \n",
    "\n",
    "The probability of sucess of the binomial distribution will come from a $\\beta(a,b)$ distribution. Spatial information is relevant because the $a$ will only vary with the river distance and $b$ will only vary with sea distance.\n",
    "\n",
    "Therefore, we have a grid ${{x_i, y_j}} \\forall i=1:N, j=1:M$ , where each $x_i, y_j$ pair (district) has 2 data values, the total number of votes and the number of votes of the right wing party (it is a 2 party political system, thus, total-right=left wing votes).\n",
    "\n",
    "Here, the total number of votes will be considered as known data. It does not have much sense, but we know the distribution of $right(x,y) \\sim BetaBinomial\\Big(votes(x,y), \\alpha(x),\\beta(y)\\Big)$. Therefore, our model has $N$ _plus_ $M$ parameters, instead of the product that would be if each district was independent."
   ]
  },
  {
   "cell_type": "markdown",
   "metadata": {},
   "source": [
    "## Load data"
   ]
  },
  {
   "cell_type": "code",
   "execution_count": 1,
   "metadata": {},
   "outputs": [],
   "source": [
    "import pystan\n",
    "import pandas as pd\n",
    "import numpy as np\n",
    "import arviz as az\n",
    "import matplotlib.pyplot as plt"
   ]
  },
  {
   "cell_type": "code",
   "execution_count": 2,
   "metadata": {},
   "outputs": [],
   "source": [
    "nchains = 4\n",
    "ndraws = 1000"
   ]
  },
  {
   "cell_type": "code",
   "execution_count": 3,
   "metadata": {},
   "outputs": [],
   "source": [
    "N_inhabitants = 26000\n",
    "data = pd.read_csv(\"2D_data_N_inhabitants_{}.csv\".format(N_inhabitants)).set_index([\"category\",\"number\"])\n",
    "Total = data.loc[\"total\"].values\n",
    "Right = data.loc[\"right\"].values\n",
    "N, M = Total.shape"
   ]
  },
  {
   "cell_type": "code",
   "execution_count": 4,
   "metadata": {},
   "outputs": [
    {
     "data": {
      "text/plain": [
       "(13, 8)"
      ]
     },
     "execution_count": 4,
     "metadata": {},
     "output_type": "execute_result"
    }
   ],
   "source": [
    "N,M"
   ]
  },
  {
   "cell_type": "code",
   "execution_count": 5,
   "metadata": {},
   "outputs": [],
   "source": [
    "binomial_on_2D_dat = {\n",
    "    'N': N,\n",
    "    'M': M,\n",
    "    'Total': Total,\n",
    "    'Right': Right,\n",
    "}\n",
    "coords = {\"river_distance\":range(N), \"sea_distance\": range(M)}"
   ]
  },
  {
   "cell_type": "markdown",
   "metadata": {},
   "source": [
    "## PyStan code"
   ]
  },
  {
   "cell_type": "code",
   "execution_count": 6,
   "metadata": {},
   "outputs": [],
   "source": [
    "binomial_on_2D_code = \"\"\"\n",
    "data {\n",
    "    int<lower=1> N;     // num of x, or num of river_distance values\n",
    "    int<lower=1> M;     // num of y, or num of sea_distance values\n",
    "\n",
    "    int Total[N,M];\n",
    "    int Right[N,M];\n",
    "}\n",
    "\n",
    "parameters {\n",
    "    vector<lower=0>[N] alphas;     \n",
    "    vector<lower=0>[M] betas;\n",
    "}\n",
    "\n",
    "model {\n",
    "\n",
    "    for (n in 1:N){\n",
    "        for (m in 1:M){\n",
    "            Right[n,m] ~ beta_binomial(Total[n,m], alphas[n], betas[m]);\n",
    "        }\n",
    "    }\n",
    "}\n",
    "\n",
    "generated quantities {\n",
    "    real log_lik[N,M];\n",
    "    real Right_hat[N,M];\n",
    "    \n",
    "    for (n in 1:N){\n",
    "        for (m in 1:M){\n",
    "            log_lik[n,m] = beta_binomial_lpmf(Right[n,m] | Total[n,m], alphas[n], betas[m]);\n",
    "            Right_hat[n,m] = beta_binomial_rng(Total[n,m], alphas[n], betas[m]);\n",
    "        }\n",
    "    }\n",
    "}\n",
    "\"\"\""
   ]
  },
  {
   "cell_type": "code",
   "execution_count": 7,
   "metadata": {},
   "outputs": [
    {
     "name": "stderr",
     "output_type": "stream",
     "text": [
      "INFO:pystan:COMPILING THE C++ CODE FOR MODEL anon_model_e8837c52e06dfb51a3042c4705a0427e NOW.\n"
     ]
    }
   ],
   "source": [
    "sm = pystan.StanModel(model_code=binomial_on_2D_code)"
   ]
  },
  {
   "cell_type": "code",
   "execution_count": 8,
   "metadata": {},
   "outputs": [],
   "source": [
    "fit = sm.sampling(\n",
    "    data=binomial_on_2D_dat, \n",
    "    iter=2*ndraws, \n",
    "    chains=nchains)"
   ]
  },
  {
   "cell_type": "code",
   "execution_count": 9,
   "metadata": {},
   "outputs": [],
   "source": [
    "dims = {\"alphas\":[\"river_distance\"], \n",
    "        \"betas\":[\"sea_distance\"], \n",
    "        \"Total\": [\"river_distance\", \"sea_distance\"], \n",
    "        \"Right\": [\"river_distance\", \"sea_distance\"], \n",
    "        \"Right_hat\": [\"river_distance\", \"sea_distance\"], \n",
    "        \"log_lik\": [\"river_distance\", \"sea_distance\"]}\n",
    "idata = az.from_pystan(\n",
    "    posterior=fit,\n",
    "    observed_data=['Total', 'Right'],\n",
    "    posterior_predictive=['Right_hat'],\n",
    "    log_likelihood=\"log_lik\",\n",
    "    coords=coords,\n",
    "    dims=dims\n",
    ")"
   ]
  },
  {
   "cell_type": "code",
   "execution_count": 10,
   "metadata": {},
   "outputs": [
    {
     "name": "stderr",
     "output_type": "stream",
     "text": [
      "/home/oriol/venvs/arviz-dev/lib/python3.6/site-packages/arviz/stats/stats.py:425: UserWarning: Estimated shape parameter of Pareto distribution is greater than 0.7 for one or more samples. You should consider using a more robust model, this is because importance sampling is less likely to work well if the marginal posterior and LOO posterior are very different. This is more likely to happen with a non-robust model and highly influential observations.\n",
      "  \"Estimated shape parameter of Pareto distribution is greater than 0.7 for \"\n"
     ]
    },
    {
     "data": {
      "text/plain": [
       "loo           2008.09\n",
       "loo_se        18.9396\n",
       "p_loo         29.3179\n",
       "warning          True\n",
       "loo_scale    deviance\n",
       "dtype: object"
      ]
     },
     "execution_count": 10,
     "metadata": {},
     "output_type": "execute_result"
    }
   ],
   "source": [
    "az.loo(idata)"
   ]
  },
  {
   "cell_type": "code",
   "execution_count": 11,
   "metadata": {},
   "outputs": [
    {
     "data": {
      "text/plain": [
       "'binomial_on_2D_intention_pystan.nc'"
      ]
     },
     "execution_count": 11,
     "metadata": {},
     "output_type": "execute_result"
    }
   ],
   "source": [
    "idata.to_netcdf(\"binomial_on_2D_intention_pystan.nc\")"
   ]
  },
  {
   "cell_type": "markdown",
   "metadata": {},
   "source": [
    "## Constant success probability model\n",
    "Now the model will be $right(x,y) = B(votes(x,y), p_{intention})$, being $p_{intention}$ constants."
   ]
  },
  {
   "cell_type": "code",
   "execution_count": 12,
   "metadata": {},
   "outputs": [],
   "source": [
    "binomial_on_2D_code_constant = \"\"\"\n",
    "data {\n",
    "    int<lower=1> N;     // num of x, or num of river_distance values\n",
    "    int<lower=1> M;     // num of y, or num of sea_distance values\n",
    "\n",
    "    int Total[N,M];\n",
    "    int Right[N,M];\n",
    "}\n",
    "\n",
    "parameters {\n",
    "    real<lower=0, upper=1> p_intention;\n",
    "}\n",
    "\n",
    "model {\n",
    "\n",
    "    for (n in 1:N){\n",
    "        for (m in 1:M){\n",
    "            Right[n,m] ~ binomial(Total[n,m], p_intention);\n",
    "        }\n",
    "    }\n",
    "}\n",
    "\n",
    "generated quantities {\n",
    "    real log_lik[N,M];\n",
    "    real Right_hat[N,M];\n",
    "    \n",
    "    for (n in 1:N){\n",
    "        for (m in 1:M){\n",
    "            log_lik[n,m] = binomial_lpmf(Right[n,m] | Total[n,m], p_intention);\n",
    "            Right_hat[n,m] = binomial_rng(Total[n,m], p_intention);\n",
    "        }\n",
    "    }\n",
    "}\n",
    "\"\"\""
   ]
  },
  {
   "cell_type": "code",
   "execution_count": 13,
   "metadata": {},
   "outputs": [
    {
     "name": "stderr",
     "output_type": "stream",
     "text": [
      "INFO:pystan:COMPILING THE C++ CODE FOR MODEL anon_model_d65ac6ef092d8f308c1f4925defd1625 NOW.\n"
     ]
    }
   ],
   "source": [
    "sm_constant = pystan.StanModel(model_code=binomial_on_2D_code_constant)"
   ]
  },
  {
   "cell_type": "code",
   "execution_count": 14,
   "metadata": {},
   "outputs": [],
   "source": [
    "fit_constant = sm_constant.sampling(\n",
    "    data=binomial_on_2D_dat, \n",
    "    iter=2*ndraws, \n",
    "    chains=nchains)"
   ]
  },
  {
   "cell_type": "code",
   "execution_count": 15,
   "metadata": {},
   "outputs": [],
   "source": [
    "dims = {\"Total\": [\"river_distance\", \"sea_distance\"], \n",
    "        \"Right\": [\"river_distance\", \"sea_distance\"], \n",
    "        \"Right_hat\": [\"river_distance\", \"sea_distance\"], \n",
    "        \"log_lik\": [\"river_distance\", \"sea_distance\"]}\n",
    "idata_constant = az.from_pystan(\n",
    "    posterior=fit_constant,\n",
    "    observed_data=['Total', 'Right'],\n",
    "    posterior_predictive=['Right_hat'],\n",
    "    log_likelihood=\"log_lik\",\n",
    "    coords=coords,\n",
    "    dims=dims\n",
    ")"
   ]
  },
  {
   "cell_type": "code",
   "execution_count": 16,
   "metadata": {},
   "outputs": [
    {
     "name": "stderr",
     "output_type": "stream",
     "text": [
      "/home/oriol/venvs/arviz-dev/lib/python3.6/site-packages/arviz/stats/stats.py:425: UserWarning: Estimated shape parameter of Pareto distribution is greater than 0.7 for one or more samples. You should consider using a more robust model, this is because importance sampling is less likely to work well if the marginal posterior and LOO posterior are very different. This is more likely to happen with a non-robust model and highly influential observations.\n",
      "  \"Estimated shape parameter of Pareto distribution is greater than 0.7 for \"\n"
     ]
    },
    {
     "data": {
      "text/plain": [
       "loo            433725\n",
       "loo_se        45726.2\n",
       "p_loo         2564.94\n",
       "warning          True\n",
       "loo_scale    deviance\n",
       "dtype: object"
      ]
     },
     "execution_count": 16,
     "metadata": {},
     "output_type": "execute_result"
    }
   ],
   "source": [
    "az.loo(idata_constant)"
   ]
  },
  {
   "cell_type": "code",
   "execution_count": 17,
   "metadata": {},
   "outputs": [
    {
     "data": {
      "text/plain": [
       "'binomial_on_2D_intention_pystan_p_constant.nc'"
      ]
     },
     "execution_count": 17,
     "metadata": {},
     "output_type": "execute_result"
    }
   ],
   "source": [
    "idata_constant.to_netcdf(\"binomial_on_2D_intention_pystan_p_constant.nc\")"
   ]
  },
  {
   "cell_type": "markdown",
   "metadata": {},
   "source": [
    "## Only 1D variation in $N$ dimension (variation in $\\alpha$ with betabinomial)\n",
    "The third modelling option will be a variation on the first model: $right(x,y) \\sim BetaBinomial\\Big(votes(x,y), \\alpha(x),\\beta\\Big)$."
   ]
  },
  {
   "cell_type": "code",
   "execution_count": 18,
   "metadata": {},
   "outputs": [],
   "source": [
    "binomial_on_2D_code_1D_a = \"\"\"\n",
    "data {\n",
    "    int<lower=1> N;     // num of x, or num of river_distance values\n",
    "    int<lower=1> M;     // num of y, or num of sea_distance values\n",
    "\n",
    "    int Total[N,M];\n",
    "    int Right[N,M];\n",
    "}\n",
    "\n",
    "parameters {\n",
    "    vector<lower=0>[N] alphas;     \n",
    "    real<lower=0> beta;\n",
    "}\n",
    "\n",
    "model {\n",
    "\n",
    "    for (n in 1:N){\n",
    "        for (m in 1:M){\n",
    "            Right[n,m] ~ beta_binomial(Total[n,m], alphas[n], beta);\n",
    "        }\n",
    "    }\n",
    "}\n",
    "\n",
    "generated quantities {\n",
    "    real log_lik[N,M];\n",
    "    real Right_hat[N,M];\n",
    "    \n",
    "    for (n in 1:N){\n",
    "        for (m in 1:M){\n",
    "            log_lik[n,m] = beta_binomial_lpmf(Right[n,m] | Total[n,m], alphas[n], beta);\n",
    "            Right_hat[n,m] = beta_binomial_rng(Total[n,m], alphas[n], beta);\n",
    "        }\n",
    "    }\n",
    "}\n",
    "\"\"\""
   ]
  },
  {
   "cell_type": "code",
   "execution_count": 19,
   "metadata": {},
   "outputs": [
    {
     "name": "stderr",
     "output_type": "stream",
     "text": [
      "INFO:pystan:COMPILING THE C++ CODE FOR MODEL anon_model_3d9409b1a82d2ac0803e0c4030d637bc NOW.\n"
     ]
    }
   ],
   "source": [
    "sm_1D_a = pystan.StanModel(model_code=binomial_on_2D_code_1D_a)"
   ]
  },
  {
   "cell_type": "code",
   "execution_count": 20,
   "metadata": {},
   "outputs": [],
   "source": [
    "fit_1D_a = sm_1D_a.sampling(\n",
    "    data=binomial_on_2D_dat, \n",
    "    iter=2*ndraws, \n",
    "    chains=nchains)"
   ]
  },
  {
   "cell_type": "code",
   "execution_count": 21,
   "metadata": {},
   "outputs": [],
   "source": [
    "dims = {\"alphas\":[\"river_distance\"], \n",
    "        \"Total\": [\"river_distance\", \"sea_distance\"], \n",
    "        \"Right\": [\"river_distance\", \"sea_distance\"], \n",
    "        \"Right_hat\": [\"river_distance\", \"sea_distance\"], \n",
    "        \"log_lik\": [\"river_distance\", \"sea_distance\"]}\n",
    "idata_1D_a = az.from_pystan(\n",
    "    posterior=fit_1D_a,\n",
    "    observed_data=['Total', 'Right'],\n",
    "    posterior_predictive=['Right_hat'],\n",
    "    log_likelihood=\"log_lik\",\n",
    "    coords=coords,\n",
    "    dims=dims\n",
    ")"
   ]
  },
  {
   "cell_type": "code",
   "execution_count": 22,
   "metadata": {},
   "outputs": [
    {
     "data": {
      "text/plain": [
       "loo           2016.11\n",
       "loo_se         12.116\n",
       "p_loo         15.2194\n",
       "warning         False\n",
       "loo_scale    deviance\n",
       "dtype: object"
      ]
     },
     "execution_count": 22,
     "metadata": {},
     "output_type": "execute_result"
    }
   ],
   "source": [
    "az.loo(idata_1D_a)"
   ]
  },
  {
   "cell_type": "code",
   "execution_count": 23,
   "metadata": {},
   "outputs": [
    {
     "data": {
      "text/plain": [
       "'binomial_on_2D_intention_pystan_1D_a.nc'"
      ]
     },
     "execution_count": 23,
     "metadata": {},
     "output_type": "execute_result"
    }
   ],
   "source": [
    "idata_1D_a.to_netcdf(\"binomial_on_2D_intention_pystan_1D_a.nc\")"
   ]
  },
  {
   "cell_type": "markdown",
   "metadata": {},
   "source": [
    "## Only 1D variation in $N$ dimension (variation in $\\beta$ with betabinomial)\n",
    "The third modelling option will be a variation on the first model: $right(x,y) \\sim BetaBinomial\\Big(votes(x,y), \\alpha, \\beta(y)\\Big)$."
   ]
  },
  {
   "cell_type": "code",
   "execution_count": 24,
   "metadata": {},
   "outputs": [],
   "source": [
    "binomial_on_2D_code_1D_b = \"\"\"\n",
    "data {\n",
    "    int<lower=1> N;     // num of x, or num of river_distance values\n",
    "    int<lower=1> M;     // num of y, or num of sea_distance values\n",
    "\n",
    "    int Total[N,M];\n",
    "    int Right[N,M];\n",
    "}\n",
    "\n",
    "parameters {\n",
    "    real<lower=0> alpha;     \n",
    "    vector<lower=0>[M] betas;\n",
    "}\n",
    "\n",
    "model {\n",
    "\n",
    "    for (n in 1:N){\n",
    "        for (m in 1:M){\n",
    "            Right[n,m] ~ beta_binomial(Total[n,m], alpha, betas[m]);\n",
    "        }\n",
    "    }\n",
    "}\n",
    "\n",
    "generated quantities {\n",
    "    real log_lik[N,M];\n",
    "    real Right_hat[N,M];\n",
    "    \n",
    "    for (n in 1:N){\n",
    "        for (m in 1:M){\n",
    "            log_lik[n,m] = beta_binomial_lpmf(Right[n,m] | Total[n,m], alpha, betas[m]);\n",
    "            Right_hat[n,m] = beta_binomial_rng(Total[n,m], alpha, betas[m]);\n",
    "        }\n",
    "    }\n",
    "}\n",
    "\"\"\""
   ]
  },
  {
   "cell_type": "code",
   "execution_count": 25,
   "metadata": {},
   "outputs": [
    {
     "name": "stderr",
     "output_type": "stream",
     "text": [
      "INFO:pystan:COMPILING THE C++ CODE FOR MODEL anon_model_b0daf9aaca2c157c6840a11b724d4f91 NOW.\n"
     ]
    }
   ],
   "source": [
    "sm_1D_b = pystan.StanModel(model_code=binomial_on_2D_code_1D_b)"
   ]
  },
  {
   "cell_type": "code",
   "execution_count": 26,
   "metadata": {},
   "outputs": [],
   "source": [
    "fit_1D_b = sm_1D_b.sampling(\n",
    "    data=binomial_on_2D_dat, \n",
    "    iter=2*ndraws, \n",
    "    chains=nchains)"
   ]
  },
  {
   "cell_type": "code",
   "execution_count": 27,
   "metadata": {},
   "outputs": [],
   "source": [
    "dims = {\"betas\":[\"sea_distance\"], \n",
    "        \"Total\": [\"river_distance\", \"sea_distance\"], \n",
    "        \"Right\": [\"river_distance\", \"sea_distance\"], \n",
    "        \"Right_hat\": [\"river_distance\", \"sea_distance\"], \n",
    "        \"log_lik\": [\"river_distance\", \"sea_distance\"]}\n",
    "idata_1D_b = az.from_pystan(\n",
    "    posterior=fit_1D_b,\n",
    "    observed_data=['Total', 'Right'],\n",
    "    posterior_predictive=['Right_hat'],\n",
    "    log_likelihood=\"log_lik\",\n",
    "    coords=coords,\n",
    "    dims=dims\n",
    ")"
   ]
  },
  {
   "cell_type": "code",
   "execution_count": 28,
   "metadata": {},
   "outputs": [
    {
     "name": "stderr",
     "output_type": "stream",
     "text": [
      "/home/oriol/venvs/arviz-dev/lib/python3.6/site-packages/arviz/stats/stats.py:425: UserWarning: Estimated shape parameter of Pareto distribution is greater than 0.7 for one or more samples. You should consider using a more robust model, this is because importance sampling is less likely to work well if the marginal posterior and LOO posterior are very different. This is more likely to happen with a non-robust model and highly influential observations.\n",
      "  \"Estimated shape parameter of Pareto distribution is greater than 0.7 for \"\n"
     ]
    },
    {
     "data": {
      "text/plain": [
       "loo           1995.26\n",
       "loo_se        12.8462\n",
       "p_loo         10.2907\n",
       "warning          True\n",
       "loo_scale    deviance\n",
       "dtype: object"
      ]
     },
     "execution_count": 28,
     "metadata": {},
     "output_type": "execute_result"
    }
   ],
   "source": [
    "az.loo(idata_1D_b)"
   ]
  },
  {
   "cell_type": "code",
   "execution_count": 30,
   "metadata": {},
   "outputs": [
    {
     "data": {
      "text/plain": [
       "'binomial_on_2D_intention_pystan_1D_b.nc'"
      ]
     },
     "execution_count": 30,
     "metadata": {},
     "output_type": "execute_result"
    }
   ],
   "source": [
    "idata_1D_b.to_netcdf(\"binomial_on_2D_intention_pystan_1D_b.nc\")"
   ]
  },
  {
   "cell_type": "code",
   "execution_count": null,
   "metadata": {},
   "outputs": [],
   "source": []
  }
 ],
 "metadata": {
  "kernelspec": {
   "display_name": "Python 3",
   "language": "python",
   "name": "python3"
  },
  "language_info": {
   "codemirror_mode": {
    "name": "ipython",
    "version": 3
   },
   "file_extension": ".py",
   "mimetype": "text/x-python",
   "name": "python",
   "nbconvert_exporter": "python",
   "pygments_lexer": "ipython3",
   "version": "3.6.7"
  }
 },
 "nbformat": 4,
 "nbformat_minor": 2
}
