{
 "cells": [
  {
   "cell_type": "markdown",
   "metadata": {},
   "source": [
    "# Binomial on 2D data\n",
    "\n",
    "Our model will be a binomial distribution per bin on a 2D grid. One dimension will be the distance to the sea (i.e. longitude if the sea shore is North-South) and the second would be distance to the river (i.e. latitude following the provious example). \n",
    "\n",
    "The probability of sucess of the binomial distribution will come from a $\\beta(a,b)$ distribution. Spatial information is relevant because the $a$ will only vary with the river distance and $b$ will only vary with sea distance.\n",
    "\n",
    "Therefore, we have a grid ${{x_i, y_j}} \\forall i=1:N, j=1:M$ , where each $x_i, y_j$ pair (district) has 2 data values, the total number of votes and the number of votes of the right wing party (it is a 2 party political system, thus, total-right=left wing votes).\n",
    "\n",
    "It does not have much sense, but we know that both variables follow a binomial distribution $votes(x,y) \\sim B\\Big(N_{inhabitants}, \\frac{0.9}{1+\\text{Beta}\\big(\\alpha(x),\\beta(y)\\big)}\\Big)$ and $right(x,y) \\sim B\\Big(votes(x,y), \\text{Beta}\\big(\\alpha(x),\\beta(y)\\big)\\Big)$. Therefore, our model has $N$ _plus_ $M$ parameters, instead of the product that would be if each district was independent."
   ]
  },
  {
   "cell_type": "markdown",
   "metadata": {},
   "source": [
    "## PyStan code"
   ]
  },
  {
   "cell_type": "code",
   "execution_count": 1,
   "metadata": {},
   "outputs": [],
   "source": [
    "import pystan\n",
    "import pandas as pd\n",
    "import numpy as np\n",
    "import arviz as az\n",
    "import matplotlib.pyplot as plt"
   ]
  },
  {
   "cell_type": "code",
   "execution_count": 2,
   "metadata": {},
   "outputs": [],
   "source": [
    "N_inhabitants = 26000\n",
    "data = pd.read_csv(\"2D_data_N_inhabitants_{}.csv\".format(N_inhabitants)).set_index([\"category\",\"number\"])\n",
    "Total = data.loc[\"total\"].values\n",
    "Right = data.loc[\"right\"].values\n",
    "N, M = Total.shape"
   ]
  },
  {
   "cell_type": "code",
   "execution_count": 3,
   "metadata": {},
   "outputs": [
    {
     "data": {
      "text/plain": [
       "(13, 8)"
      ]
     },
     "execution_count": 3,
     "metadata": {},
     "output_type": "execute_result"
    }
   ],
   "source": [
    "N,M"
   ]
  },
  {
   "cell_type": "code",
   "execution_count": 4,
   "metadata": {},
   "outputs": [],
   "source": [
    "# restricted model\n",
    "binomial_on_2D_code = \"\"\"\n",
    "data {\n",
    "    int<lower=1> N;     // num of x, or num of river_distance values\n",
    "    int<lower=1> M;     // num of y, or num of sea_distance values\n",
    "    int<lower=1> N_inhabitants;\n",
    "\n",
    "    int Total[N,M];\n",
    "    int Right[N,M];\n",
    "}\n",
    "\n",
    "parameters {\n",
    "    vector<lower=0, upper=2>[N] alphas;     \n",
    "    vector<lower=0, upper=2>[M] betas;\n",
    "    real<lower=0, upper=1> p_intention[N,M];\n",
    "    real<lower=0, upper=1> p_aux[N,M];\n",
    "}\n",
    "\n",
    "transformed parameters {\n",
    "    real<lower=0, upper=1> p_participation[N,M];\n",
    "    \n",
    "    for (n in 1:N){\n",
    "        for (m in 1:M){\n",
    "            p_participation[n,m] = .9/(1+p_aux[n,m]);\n",
    "        }\n",
    "    }\n",
    "    \n",
    "}\n",
    "\n",
    "\n",
    "\n",
    "model {\n",
    "\n",
    "    for (n in 1:N){\n",
    "        for (m in 1:M){\n",
    "            p_intention[n,m] ~ beta(alphas[n], betas[m]);\n",
    "            p_aux[n,m] ~ beta(alphas[n], betas[m]);\n",
    "            Total[n,m] ~ binomial(N_inhabitants, p_participation[n,m]);\n",
    "            Right[n,m] ~ binomial(Total[n,m], p_intention[n,m]);\n",
    "        }\n",
    "    }\n",
    "}\n",
    "\n",
    "generated quantities {\n",
    "    real log_lik[N,M];\n",
    "    real Total_hat[N,M];\n",
    "    real Right_hat[N,M];\n",
    "    \n",
    "    for (n in 1:N){\n",
    "        for (m in 1:M){\n",
    "            log_lik[n,m] = binomial_lpmf(Total[n,m] | N_inhabitants, p_participation[n,m]) + \n",
    "                           binomial_lpmf(Right[n,m] | Total[n,m], p_intention[n,m]);\n",
    "            Total_hat[n,m] = binomial_rng(N_inhabitants, p_participation[n,m]);\n",
    "            Right_hat[n,m] = binomial_rng(Total[n,m], p_intention[n,m]);\n",
    "        }\n",
    "    }\n",
    "}\n",
    "\"\"\""
   ]
  },
  {
   "cell_type": "code",
   "execution_count": 5,
   "metadata": {},
   "outputs": [
    {
     "name": "stderr",
     "output_type": "stream",
     "text": [
      "INFO:pystan:COMPILING THE C++ CODE FOR MODEL anon_model_0518c242153eb4cce33b8e6bff5e3fbf NOW.\n"
     ]
    }
   ],
   "source": [
    "binomial_on_2D_dat = {\n",
    "    'N': N,\n",
    "    'M': M,\n",
    "    \"N_inhabitants\": N_inhabitants,\n",
    "    'Total': Total,\n",
    "    'Right': Right,\n",
    "}\n",
    "\n",
    "sm = pystan.StanModel(model_code=binomial_on_2D_code)"
   ]
  },
  {
   "cell_type": "code",
   "execution_count": 6,
   "metadata": {},
   "outputs": [],
   "source": [
    "fit = sm.sampling(\n",
    "    data=binomial_on_2D_dat, \n",
    "    iter=1000, \n",
    "    chains=4, \n",
    "    pars=[\n",
    "        'alphas', \n",
    "        'betas',\n",
    "        'p_intention',\n",
    "        'p_participation',\n",
    "        'Total_hat',\n",
    "        'Right_hat',\n",
    "        'log_lik'\n",
    "    ]\n",
    ")"
   ]
  },
  {
   "cell_type": "code",
   "execution_count": 7,
   "metadata": {},
   "outputs": [],
   "source": [
    "dims = {\"alphas\":[\"river_distance\"], \n",
    "        \"betas\":[\"sea_distance\"], \n",
    "        \"p_intention\": [\"river_distance\", \"sea_distance\"],  \n",
    "        \"p_participation\": [\"river_distance\", \"sea_distance\"], \n",
    "        \"Total\": [\"river_distance\", \"sea_distance\"], \n",
    "        \"Right\": [\"river_distance\", \"sea_distance\"], \n",
    "        \"Total_hat\": [\"river_distance\", \"sea_distance\"], \n",
    "        \"Right_hat\": [\"river_distance\", \"sea_distance\"], \n",
    "        \"log_lik\": [\"river_distance\", \"sea_distance\"]}\n",
    "coords = {\"river_distance\":range(N), \"sea_distance\": range(M)}\n",
    "idata = az.from_pystan(\n",
    "    posterior=fit,\n",
    "    observed_data=['Total', 'Right'],\n",
    "    posterior_predictive=['Total_hat', 'Right_hat'],\n",
    "    log_likelihood=\"log_lik\",\n",
    "    coords=coords,\n",
    "    dims=dims\n",
    ")"
   ]
  },
  {
   "cell_type": "code",
   "execution_count": 8,
   "metadata": {},
   "outputs": [
    {
     "data": {
      "text/plain": [
       "'binomial_on_2D_pystan.nc'"
      ]
     },
     "execution_count": 8,
     "metadata": {},
     "output_type": "execute_result"
    }
   ],
   "source": [
    "idata.to_netcdf(\"binomial_on_2D_pystan.nc\")"
   ]
  },
  {
   "cell_type": "code",
   "execution_count": null,
   "metadata": {},
   "outputs": [],
   "source": []
  }
 ],
 "metadata": {
  "kernelspec": {
   "display_name": "Python 3",
   "language": "python",
   "name": "python3"
  },
  "language_info": {
   "codemirror_mode": {
    "name": "ipython",
    "version": 3
   },
   "file_extension": ".py",
   "mimetype": "text/x-python",
   "name": "python",
   "nbconvert_exporter": "python",
   "pygments_lexer": "ipython3",
   "version": "3.6.7"
  }
 },
 "nbformat": 4,
 "nbformat_minor": 2
}
