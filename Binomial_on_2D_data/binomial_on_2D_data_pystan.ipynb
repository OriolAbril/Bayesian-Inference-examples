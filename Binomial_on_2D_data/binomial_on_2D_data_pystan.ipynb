{
 "cells": [
  {
   "cell_type": "markdown",
   "metadata": {},
   "source": [
    "# Binomial on 2D data\n",
    "\n",
    "Our model will be two binomial distribution per bin on a 2D grid. One dimension will be the distance to the sea (i.e. longitude if the sea shore is North-South) and the second would be distance to the river (i.e. latitude following the provious example). \n",
    "\n",
    "The probability of sucess of the binomial distribution will come from a $\\beta(a,b)$ distribution. Spatial information is relevant because the $a$ will only vary with the river distance and $b$ will only vary with sea distance.\n",
    "\n",
    "Therefore, we have a grid ${{x_i, y_j}} \\forall i=1:N, j=1:M$ , where each $x_i, y_j$ pair (district) has 2 data values, the total number of votes and the number of votes of the right wing party (it is a 2 party political system, thus, total-right=left wing votes).\n",
    "\n",
    "It does not have much sense, but we know that both variables follow a binomial distribution $votes(x,y) \\sim B\\Big(N_{inhabitants}, \\frac{0.9}{1+\\text{Beta}\\big(\\alpha(x),\\beta(y)\\big)}\\Big)$ and $right(x,y) \\sim B\\Big(votes(x,y), \\text{Beta}\\big(\\alpha(x),\\beta(y)\\big)\\Big)$. Therefore, our model has $N$ _plus_ $M$ parameters, instead of the product that would be if each district was independent."
   ]
  },
  {
   "cell_type": "markdown",
   "metadata": {},
   "source": [
    "## Load data"
   ]
  },
  {
   "cell_type": "code",
   "execution_count": 1,
   "metadata": {},
   "outputs": [],
   "source": [
    "import pystan\n",
    "import pandas as pd\n",
    "import numpy as np\n",
    "import arviz as az\n",
    "import matplotlib.pyplot as plt"
   ]
  },
  {
   "cell_type": "code",
   "execution_count": 2,
   "metadata": {},
   "outputs": [],
   "source": [
    "N_inhabitants = 26000\n",
    "data = pd.read_csv(\"2D_data_N_inhabitants_{}.csv\".format(N_inhabitants)).set_index([\"category\",\"number\"])\n",
    "Total = data.loc[\"total\"].values\n",
    "Right = data.loc[\"right\"].values\n",
    "N, M = Total.shape"
   ]
  },
  {
   "cell_type": "code",
   "execution_count": 3,
   "metadata": {},
   "outputs": [
    {
     "data": {
      "text/plain": [
       "(13, 8)"
      ]
     },
     "execution_count": 3,
     "metadata": {},
     "output_type": "execute_result"
    }
   ],
   "source": [
    "N,M"
   ]
  },
  {
   "cell_type": "code",
   "execution_count": 4,
   "metadata": {},
   "outputs": [],
   "source": [
    "binomial_on_2D_dat = {\n",
    "    'N': N,\n",
    "    'M': M,\n",
    "    \"N_inhabitants\": N_inhabitants,\n",
    "    'Total': Total,\n",
    "    'Right': Right,\n",
    "}"
   ]
  },
  {
   "cell_type": "markdown",
   "metadata": {},
   "source": [
    "## PyStan code"
   ]
  },
  {
   "cell_type": "code",
   "execution_count": 5,
   "metadata": {},
   "outputs": [],
   "source": [
    "binomial_on_2D_code = \"\"\"\n",
    "data {\n",
    "    int<lower=1> N;     // num of x, or num of river_distance values\n",
    "    int<lower=1> M;     // num of y, or num of sea_distance values\n",
    "    int<lower=1> N_inhabitants;\n",
    "\n",
    "    int Total[N,M];\n",
    "    int Right[N,M];\n",
    "}\n",
    "\n",
    "parameters {\n",
    "    vector<lower=0>[N] alphas;     \n",
    "    vector<lower=0>[M] betas;\n",
    "    real<lower=0, upper=1> p_intention[N,M];\n",
    "    real<lower=0, upper=1> p_aux[N,M];\n",
    "}\n",
    "\n",
    "transformed parameters {\n",
    "    real<lower=0, upper=1> p_participation[N,M];\n",
    "    \n",
    "    for (n in 1:N){\n",
    "        for (m in 1:M){\n",
    "            p_participation[n,m] = .9/(1+p_aux[n,m]);\n",
    "        }\n",
    "    }\n",
    "    \n",
    "}\n",
    "\n",
    "\n",
    "\n",
    "model {\n",
    "\n",
    "    for (n in 1:N){\n",
    "        for (m in 1:M){\n",
    "            p_intention[n,m] ~ beta(alphas[n], betas[m]);\n",
    "            p_aux[n,m] ~ beta(alphas[n], betas[m]);\n",
    "            Total[n,m] ~ binomial(N_inhabitants, p_participation[n,m]);\n",
    "            Right[n,m] ~ binomial(Total[n,m], p_intention[n,m]);\n",
    "        }\n",
    "    }\n",
    "}\n",
    "\n",
    "generated quantities {\n",
    "    real log_lik[N,M];\n",
    "    real Total_hat[N,M];\n",
    "    real Right_hat[N,M];\n",
    "    \n",
    "    for (n in 1:N){\n",
    "        for (m in 1:M){\n",
    "            log_lik[n,m] = binomial_lpmf(Total[n,m] | N_inhabitants, p_participation[n,m]) + \n",
    "                           binomial_lpmf(Right[n,m] | Total[n,m], p_intention[n,m]);\n",
    "            Total_hat[n,m] = binomial_rng(N_inhabitants, p_participation[n,m]);\n",
    "            Right_hat[n,m] = binomial_rng(Total[n,m], p_intention[n,m]);\n",
    "        }\n",
    "    }\n",
    "}\n",
    "\"\"\""
   ]
  },
  {
   "cell_type": "code",
   "execution_count": 6,
   "metadata": {},
   "outputs": [
    {
     "name": "stderr",
     "output_type": "stream",
     "text": [
      "INFO:pystan:COMPILING THE C++ CODE FOR MODEL anon_model_a0be994a7f5f251f45b1e4dcc0dc0691 NOW.\n"
     ]
    }
   ],
   "source": [
    "sm = pystan.StanModel(model_code=binomial_on_2D_code)"
   ]
  },
  {
   "cell_type": "code",
   "execution_count": 7,
   "metadata": {},
   "outputs": [],
   "source": [
    "fit = sm.sampling(\n",
    "    data=binomial_on_2D_dat, \n",
    "    iter=2000, \n",
    "    chains=8, \n",
    "    pars=[\n",
    "        'alphas', \n",
    "        'betas',\n",
    "        'Total_hat',\n",
    "        'Right_hat',\n",
    "        'log_lik'\n",
    "    ]\n",
    ")"
   ]
  },
  {
   "cell_type": "code",
   "execution_count": 8,
   "metadata": {},
   "outputs": [],
   "source": [
    "dims = {\"alphas\":[\"river_distance\"], \n",
    "        \"betas\":[\"sea_distance\"], \n",
    "        \"p_intention\": [\"river_distance\", \"sea_distance\"],  \n",
    "        \"p_participation\": [\"river_distance\", \"sea_distance\"], \n",
    "        \"Total\": [\"river_distance\", \"sea_distance\"], \n",
    "        \"Right\": [\"river_distance\", \"sea_distance\"], \n",
    "        \"Total_hat\": [\"river_distance\", \"sea_distance\"], \n",
    "        \"Right_hat\": [\"river_distance\", \"sea_distance\"], \n",
    "        \"log_lik\": [\"river_distance\", \"sea_distance\"]}\n",
    "coords = {\"river_distance\":range(N), \"sea_distance\": range(M)}\n",
    "idata = az.from_pystan(\n",
    "    posterior=fit,\n",
    "    observed_data=['Total', 'Right'],\n",
    "    posterior_predictive=['Total_hat', 'Right_hat'],\n",
    "    log_likelihood=\"log_lik\",\n",
    "    coords=coords,\n",
    "    dims=dims\n",
    ")"
   ]
  },
  {
   "cell_type": "code",
   "execution_count": 9,
   "metadata": {},
   "outputs": [
    {
     "name": "stderr",
     "output_type": "stream",
     "text": [
      "/home/oriol/venvs/arviz-dev/lib/python3.6/site-packages/arviz/stats/stats.py:425: UserWarning: Estimated shape parameter of Pareto distribution is greater than 0.7 for one or more samples. You should consider using a more robust model, this is because importance sampling is less likely to work well if the marginal posterior and LOO posterior are very different. This is more likely to happen with a non-robust model and highly influential observations.\n",
      "  \"Estimated shape parameter of Pareto distribution is greater than 0.7 for \"\n"
     ]
    },
    {
     "data": {
      "text/plain": [
       "loo           2586.42\n",
       "loo_se        7.54498\n",
       "p_loo         168.547\n",
       "warning          True\n",
       "loo_scale    deviance\n",
       "dtype: object"
      ]
     },
     "execution_count": 9,
     "metadata": {},
     "output_type": "execute_result"
    }
   ],
   "source": [
    "az.loo(idata)"
   ]
  },
  {
   "cell_type": "code",
   "execution_count": 10,
   "metadata": {},
   "outputs": [
    {
     "data": {
      "text/plain": [
       "'binomial_on_2D_pystan.nc'"
      ]
     },
     "execution_count": 10,
     "metadata": {},
     "output_type": "execute_result"
    }
   ],
   "source": [
    "idata.to_netcdf(\"binomial_on_2D_pystan.nc\")"
   ]
  },
  {
   "cell_type": "markdown",
   "metadata": {},
   "source": [
    "## Constant success probability model\n",
    "Now the model will be $votes(x,y) = B(N_{inhabitants}, p_{participation})$ and $right(x,y) = B(votes(x,y), p_{intention})$, being $p_{participation}$ and $p_{intention}$ constants."
   ]
  },
  {
   "cell_type": "code",
   "execution_count": 11,
   "metadata": {},
   "outputs": [],
   "source": [
    "binomial_on_2D_code_constant = \"\"\"\n",
    "data {\n",
    "    int<lower=1> N;     // num of x, or num of river_distance values\n",
    "    int<lower=1> M;     // num of y, or num of sea_distance values\n",
    "    int<lower=1> N_inhabitants;\n",
    "\n",
    "    int Total[N,M];\n",
    "    int Right[N,M];\n",
    "}\n",
    "\n",
    "parameters {\n",
    "    real<lower=0, upper=1> p_intention;\n",
    "    real<lower=0, upper=1> p_participation;\n",
    "}\n",
    "\n",
    "model {\n",
    "\n",
    "    for (n in 1:N){\n",
    "        for (m in 1:M){\n",
    "            Total[n,m] ~ binomial(N_inhabitants, p_participation);\n",
    "            Right[n,m] ~ binomial(Total[n,m], p_intention);\n",
    "        }\n",
    "    }\n",
    "}\n",
    "\n",
    "generated quantities {\n",
    "    real log_lik[N,M];\n",
    "    real Total_hat[N,M];\n",
    "    real Right_hat[N,M];\n",
    "    \n",
    "    for (n in 1:N){\n",
    "        for (m in 1:M){\n",
    "            log_lik[n,m] = binomial_lpmf(Total[n,m] | N_inhabitants, p_participation) + \n",
    "                           binomial_lpmf(Right[n,m] | Total[n,m], p_intention);\n",
    "            Total_hat[n,m] = binomial_rng(N_inhabitants, p_participation);\n",
    "            Right_hat[n,m] = binomial_rng(Total[n,m], p_intention);\n",
    "        }\n",
    "    }\n",
    "}\n",
    "\"\"\""
   ]
  },
  {
   "cell_type": "code",
   "execution_count": 12,
   "metadata": {},
   "outputs": [
    {
     "name": "stderr",
     "output_type": "stream",
     "text": [
      "INFO:pystan:COMPILING THE C++ CODE FOR MODEL anon_model_4e7c0de38032ecbed33eec128599cf4b NOW.\n"
     ]
    }
   ],
   "source": [
    "sm_constant = pystan.StanModel(model_code=binomial_on_2D_code_constant)"
   ]
  },
  {
   "cell_type": "code",
   "execution_count": 13,
   "metadata": {},
   "outputs": [],
   "source": [
    "fit_constant = sm_constant.sampling(\n",
    "    data=binomial_on_2D_dat, \n",
    "    iter=1000, \n",
    "    chains=4\n",
    ")"
   ]
  },
  {
   "cell_type": "code",
   "execution_count": 14,
   "metadata": {},
   "outputs": [],
   "source": [
    "dims = {\"Total\": [\"river_distance\", \"sea_distance\"], \n",
    "        \"Right\": [\"river_distance\", \"sea_distance\"], \n",
    "        \"Total_hat\": [\"river_distance\", \"sea_distance\"], \n",
    "        \"Right_hat\": [\"river_distance\", \"sea_distance\"], \n",
    "        \"log_lik\": [\"river_distance\", \"sea_distance\"]}\n",
    "coords = {\"river_distance\":range(N), \"sea_distance\": range(M)}\n",
    "idata_constant = az.from_pystan(\n",
    "    posterior=fit_constant,\n",
    "    observed_data=['Total', 'Right'],\n",
    "    posterior_predictive=['Total_hat', 'Right_hat'],\n",
    "    log_likelihood=\"log_lik\",\n",
    "    coords=coords,\n",
    "    dims=dims\n",
    ")"
   ]
  },
  {
   "cell_type": "code",
   "execution_count": 15,
   "metadata": {},
   "outputs": [
    {
     "name": "stderr",
     "output_type": "stream",
     "text": [
      "/home/oriol/venvs/arviz-dev/lib/python3.6/site-packages/arviz/stats/stats.py:425: UserWarning: Estimated shape parameter of Pareto distribution is greater than 0.7 for one or more samples. You should consider using a more robust model, this is because importance sampling is less likely to work well if the marginal posterior and LOO posterior are very different. This is more likely to happen with a non-robust model and highly influential observations.\n",
      "  \"Estimated shape parameter of Pareto distribution is greater than 0.7 for \"\n"
     ]
    },
    {
     "data": {
      "text/plain": [
       "loo            579789\n",
       "loo_se        50832.2\n",
       "p_loo         3059.64\n",
       "warning          True\n",
       "loo_scale    deviance\n",
       "dtype: object"
      ]
     },
     "execution_count": 15,
     "metadata": {},
     "output_type": "execute_result"
    }
   ],
   "source": [
    "az.loo(idata_constant)"
   ]
  },
  {
   "cell_type": "code",
   "execution_count": 16,
   "metadata": {},
   "outputs": [
    {
     "data": {
      "text/plain": [
       "'binomial_on_2D_pystan_p_constant.nc'"
      ]
     },
     "execution_count": 16,
     "metadata": {},
     "output_type": "execute_result"
    }
   ],
   "source": [
    "idata_constant.to_netcdf(\"binomial_on_2D_pystan_p_constant.nc\")"
   ]
  },
  {
   "cell_type": "markdown",
   "metadata": {},
   "source": [
    "## Unknown number of inhabitants (version 1)\n",
    "The third modelling option will be a variation on the first model, assuming that $N_{inhabitants}$ is not known, and modelling the participation as a poisson process. Hence, $votes(x,y) \\sim \\text{Poisson}(\\lambda)$ and $right(x,y) \\sim BetaBinomial\\Big(votes(x,y), \\alpha(x),\\beta(y)\\Big)$."
   ]
  },
  {
   "cell_type": "code",
   "execution_count": 17,
   "metadata": {},
   "outputs": [],
   "source": [
    "binomial_on_2D_code_unknown1 = \"\"\"\n",
    "data {\n",
    "    int<lower=1> N;     // num of x, or num of river_distance values\n",
    "    int<lower=1> M;     // num of y, or num of sea_distance values\n",
    "\n",
    "    int Total[N,M];\n",
    "    int Right[N,M];\n",
    "}\n",
    "\n",
    "parameters {\n",
    "    vector<lower=0>[N] alphas;     \n",
    "    vector<lower=0>[M] betas;\n",
    "    real<lower=0> lambda;\n",
    "}\n",
    "\n",
    "model {\n",
    "\n",
    "    for (n in 1:N){\n",
    "        for (m in 1:M){\n",
    "            Total[n,m] ~ poisson(lambda);\n",
    "            Right[n,m] ~ beta_binomial(Total[n,m], alphas[n], betas[m]);\n",
    "        }\n",
    "    }\n",
    "}\n",
    "\n",
    "generated quantities {\n",
    "    real log_lik[N,M];\n",
    "    real Total_hat[N,M];\n",
    "    real Right_hat[N,M];\n",
    "    \n",
    "    for (n in 1:N){\n",
    "        for (m in 1:M){\n",
    "            log_lik[n,m] = poisson_lpmf(Total[n,m] | lambda) + \n",
    "                           beta_binomial_lpmf(Right[n,m] | Total[n,m], alphas[n], betas[m]);\n",
    "            Total_hat[n,m] = poisson_rng(lambda);\n",
    "            Right_hat[n,m] = beta_binomial_rng(Total[n,m], alphas[n], betas[m]);\n",
    "        }\n",
    "    }\n",
    "}\n",
    "\"\"\""
   ]
  },
  {
   "cell_type": "code",
   "execution_count": 18,
   "metadata": {},
   "outputs": [
    {
     "name": "stderr",
     "output_type": "stream",
     "text": [
      "INFO:pystan:COMPILING THE C++ CODE FOR MODEL anon_model_44a39ace186659875e656c684038eec2 NOW.\n"
     ]
    }
   ],
   "source": [
    "sm_unknown1 = pystan.StanModel(model_code=binomial_on_2D_code_unknown1)"
   ]
  },
  {
   "cell_type": "code",
   "execution_count": 19,
   "metadata": {},
   "outputs": [],
   "source": [
    "fit_unknown1 = sm_unknown1.sampling(\n",
    "    data=binomial_on_2D_dat, \n",
    "    iter=1000, \n",
    "    chains=4\n",
    ")"
   ]
  },
  {
   "cell_type": "code",
   "execution_count": 20,
   "metadata": {},
   "outputs": [],
   "source": [
    "dims = {\"alphas\":[\"river_distance\"], \n",
    "        \"betas\":[\"sea_distance\"], \n",
    "        \"Total\": [\"river_distance\", \"sea_distance\"], \n",
    "        \"Right\": [\"river_distance\", \"sea_distance\"], \n",
    "        \"Total_hat\": [\"river_distance\", \"sea_distance\"], \n",
    "        \"Right_hat\": [\"river_distance\", \"sea_distance\"], \n",
    "        \"log_lik\": [\"river_distance\", \"sea_distance\"]}\n",
    "coords = {\"river_distance\":range(N), \"sea_distance\": range(M)}\n",
    "idata_unknown1 = az.from_pystan(\n",
    "    posterior=fit_unknown1,\n",
    "    observed_data=['Total', 'Right'],\n",
    "    posterior_predictive=['Total_hat', 'Right_hat'],\n",
    "    log_likelihood=\"log_lik\",\n",
    "    coords=coords,\n",
    "    dims=dims\n",
    ")"
   ]
  },
  {
   "cell_type": "code",
   "execution_count": 21,
   "metadata": {},
   "outputs": [
    {
     "name": "stderr",
     "output_type": "stream",
     "text": [
      "/home/oriol/venvs/arviz-dev/lib/python3.6/site-packages/arviz/stats/stats.py:425: UserWarning: Estimated shape parameter of Pareto distribution is greater than 0.7 for one or more samples. You should consider using a more robust model, this is because importance sampling is less likely to work well if the marginal posterior and LOO posterior are very different. This is more likely to happen with a non-robust model and highly influential observations.\n",
      "  \"Estimated shape parameter of Pareto distribution is greater than 0.7 for \"\n"
     ]
    },
    {
     "data": {
      "text/plain": [
       "loo           54294.8\n",
       "loo_se        5755.95\n",
       "p_loo         513.177\n",
       "warning          True\n",
       "loo_scale    deviance\n",
       "dtype: object"
      ]
     },
     "execution_count": 21,
     "metadata": {},
     "output_type": "execute_result"
    }
   ],
   "source": [
    "az.loo(idata_unknown1)"
   ]
  },
  {
   "cell_type": "code",
   "execution_count": 22,
   "metadata": {},
   "outputs": [
    {
     "data": {
      "text/plain": [
       "'binomial_on_2D_pystan_unknown1.nc'"
      ]
     },
     "execution_count": 22,
     "metadata": {},
     "output_type": "execute_result"
    }
   ],
   "source": [
    "idata_unknown1.to_netcdf(\"binomial_on_2D_pystan_unknown1.nc\")"
   ]
  },
  {
   "cell_type": "markdown",
   "metadata": {},
   "source": [
    "## Unknown number of inhabitants (version 2)\n",
    "The fourth modelling option will be a variation on the first model, assuming that $N_{inhabitants}$ is not known, and modelling the participation as a poisson process. The difference with the third model is that lambda is decomposed into the sum of the x component and the y component. Hence, $votes(x,y) \\sim \\text{Poisson}\\big(\\lambda_1(x)+\\lambda_2(y)\\big)$ and $right(x,y) \\sim BetaBinomial\\Big(votes(x,y), \\alpha(x),\\beta(y)\\Big)$."
   ]
  },
  {
   "cell_type": "code",
   "execution_count": 23,
   "metadata": {},
   "outputs": [],
   "source": [
    "binomial_on_2D_code_unknown2 = \"\"\"\n",
    "data {\n",
    "    int<lower=1> N;     // num of x, or num of river_distance values\n",
    "    int<lower=1> M;     // num of y, or num of sea_distance values\n",
    "\n",
    "    int Total[N,M];\n",
    "    int Right[N,M];\n",
    "}\n",
    "\n",
    "parameters {\n",
    "    vector<lower=0>[N] alphas;     \n",
    "    vector<lower=0>[M] betas;\n",
    "    vector<lower=0>[N] lambda1;     \n",
    "    vector<lower=0>[M] lambda2;\n",
    "}\n",
    "\n",
    "model {\n",
    "\n",
    "    for (n in 1:N){\n",
    "        for (m in 1:M){\n",
    "            Total[n,m] ~ poisson(lambda1[n]+lambda2[m]);\n",
    "            Right[n,m] ~ beta_binomial(Total[n,m], alphas[n], betas[m]);\n",
    "        }\n",
    "    }\n",
    "}\n",
    "\n",
    "generated quantities {\n",
    "    real log_lik[N,M];\n",
    "    real Total_hat[N,M];\n",
    "    real Right_hat[N,M];\n",
    "    \n",
    "    for (n in 1:N){\n",
    "        for (m in 1:M){\n",
    "            log_lik[n,m] = poisson_lpmf(Total[n,m] | lambda1[n]+lambda2[m]) + \n",
    "                           beta_binomial_lpmf(Right[n,m] | Total[n,m], alphas[n], betas[m]);\n",
    "            Total_hat[n,m] = poisson_rng(lambda1[n]+lambda2[m]);\n",
    "            Right_hat[n,m] = beta_binomial_rng(Total[n,m], alphas[n], betas[m]);\n",
    "        }\n",
    "    }\n",
    "}\n",
    "\"\"\""
   ]
  },
  {
   "cell_type": "code",
   "execution_count": null,
   "metadata": {},
   "outputs": [
    {
     "name": "stderr",
     "output_type": "stream",
     "text": [
      "INFO:pystan:COMPILING THE C++ CODE FOR MODEL anon_model_87a34b0d590d41f713ec978839cbf17b NOW.\n"
     ]
    }
   ],
   "source": [
    "sm_unknown2 = pystan.StanModel(model_code=binomial_on_2D_code_unknown2)"
   ]
  },
  {
   "cell_type": "code",
   "execution_count": null,
   "metadata": {},
   "outputs": [],
   "source": [
    "fit_unknown2 = sm_unknown2.sampling(\n",
    "    data=binomial_on_2D_dat, \n",
    "    iter=3000, \n",
    "    chains=8,\n",
    "    control={\"max_treedepth\":15, \"adapt_delta\":.86}\n",
    ")"
   ]
  },
  {
   "cell_type": "code",
   "execution_count": null,
   "metadata": {},
   "outputs": [],
   "source": [
    "dims = {\"alphas\":[\"river_distance\"], \n",
    "        \"betas\":[\"sea_distance\"], \n",
    "        \"lambda1\":[\"river_distance\"], \n",
    "        \"lambda2\":[\"sea_distance\"],\n",
    "        \"Total\": [\"river_distance\", \"sea_distance\"], \n",
    "        \"Right\": [\"river_distance\", \"sea_distance\"], \n",
    "        \"Total_hat\": [\"river_distance\", \"sea_distance\"], \n",
    "        \"Right_hat\": [\"river_distance\", \"sea_distance\"], \n",
    "        \"log_lik\": [\"river_distance\", \"sea_distance\"]}\n",
    "coords = {\"river_distance\":range(N), \"sea_distance\": range(M)}\n",
    "idata_unknown2 = az.from_pystan(\n",
    "    posterior=fit_unknown2,\n",
    "    observed_data=['Total', 'Right'],\n",
    "    posterior_predictive=['Total_hat', 'Right_hat'],\n",
    "    log_likelihood=\"log_lik\",\n",
    "    coords=coords,\n",
    "    dims=dims\n",
    ")"
   ]
  },
  {
   "cell_type": "code",
   "execution_count": null,
   "metadata": {},
   "outputs": [],
   "source": [
    "az.loo(idata_unknown2)"
   ]
  },
  {
   "cell_type": "code",
   "execution_count": null,
   "metadata": {},
   "outputs": [],
   "source": []
  }
 ],
 "metadata": {
  "kernelspec": {
   "display_name": "Python 3",
   "language": "python",
   "name": "python3"
  },
  "language_info": {
   "codemirror_mode": {
    "name": "ipython",
    "version": 3
   },
   "file_extension": ".py",
   "mimetype": "text/x-python",
   "name": "python",
   "nbconvert_exporter": "python",
   "pygments_lexer": "ipython3",
   "version": "3.6.7"
  }
 },
 "nbformat": 4,
 "nbformat_minor": 2
}
