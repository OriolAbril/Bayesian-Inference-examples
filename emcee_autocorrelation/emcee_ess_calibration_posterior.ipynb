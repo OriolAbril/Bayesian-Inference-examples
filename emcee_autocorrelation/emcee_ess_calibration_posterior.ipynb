{
 "cells": [
  {
   "cell_type": "code",
   "execution_count": 1,
   "metadata": {},
   "outputs": [
    {
     "name": "stderr",
     "output_type": "stream",
     "text": [
      "WARNING (theano.tensor.blas): Using NumPy C-API based implementation for BLAS functions.\n"
     ]
    }
   ],
   "source": [
    "import arviz as az\n",
    "import pymc3 as pm\n",
    "import pystan\n",
    "import emcee\n",
    "import matplotlib.pyplot as plt\n",
    "import numpy as np\n",
    "from multiprocessing import Pool"
   ]
  },
  {
   "cell_type": "markdown",
   "metadata": {},
   "source": [
    "# Model\n",
    "\n",
    "The model on which to perform the simulation will be the estimation of the mean of a Normal variable having observed a 0. We will use:\n",
    "\n",
    "$$ \n",
    "p(\\theta) = \\mathcal{N}(0, 10)\\\\\n",
    "p(y|\\theta) = \\mathcal{N}(\\theta, 2)\\\\\n",
    "p(\\theta|y) \\sim p(y|\\theta)p(\\theta) \\sim \\exp\\left(-\\frac{(y-\\theta)^2}{8}\\right)\\exp\\left(-\\frac{\\theta^2}{200}\\right)\\\\\n",
    "p(\\theta|0) \\sim \\exp\\left(-\\frac{\\theta^2}{8}\\right)\\exp\\left(-\\frac{\\theta^2}{200}\\right) = \\exp\\left(-\\frac{\\theta^2}{200/26}\\right)\n",
    "$$\n",
    "\n",
    "Therefore, our posterior can be calculated analytically, and it turns out to be $\\mathcal{N}(0, \\frac{10}{\\sqrt{26}})$, whose pdf is:\n",
    "\n",
    "$$ p(\\theta|0) = \\frac{1}{\\sqrt{2\\pi}\\frac{100}{26}} \\exp\\left(-\\frac{13\\theta^2}{100}\\right)$$"
   ]
  },
  {
   "cell_type": "code",
   "execution_count": 7,
   "metadata": {},
   "outputs": [],
   "source": [
    "sigma2 = 100/26"
   ]
  },
  {
   "cell_type": "markdown",
   "metadata": {},
   "source": [
    "## Utils"
   ]
  },
  {
   "cell_type": "code",
   "execution_count": 8,
   "metadata": {},
   "outputs": [],
   "source": [
    "def ess_evolution(samples):\n",
    "    chains, draws = samples.shape\n",
    "    idxs = np.unique(np.geomspace(5, draws, 500, dtype=int))\n",
    "    ess_samples = np.empty(idxs.size)\n",
    "    for i, idx in enumerate(idxs):\n",
    "        ess_samples[i] = az.ess(samples[:, :idx], method=\"mean\")\n",
    "    return idxs, ess_samples\n",
    "\n",
    "def plot_ess_evolution(samples, idxs, ess_samples, title=\"\", variance=sigma2):\n",
    "    chains, draws = samples.shape\n",
    "    plt.loglog((samples.sum(axis=0).cumsum() / (np.arange(draws)*chains)) ** 2, label=\"var_err\");\n",
    "    plt.loglog(idxs, sigma2/ess_samples, label=\"var/ess\");\n",
    "    plt.legend(loc=\"lower left\");\n",
    "    plt.title(title);\n",
    "    plt.axis(ymin=1e-8);"
   ]
  },
  {
   "cell_type": "markdown",
   "metadata": {},
   "source": [
    "# PyMC3"
   ]
  },
  {
   "cell_type": "code",
   "execution_count": 7,
   "metadata": {},
   "outputs": [
    {
     "name": "stderr",
     "output_type": "stream",
     "text": [
      "Auto-assigning NUTS sampler...\n",
      "Initializing NUTS using jitter+adapt_diag...\n",
      "Multiprocess sampling (4 chains in 4 jobs)\n",
      "NUTS: [theta]\n"
     ]
    },
    {
     "data": {
      "application/vnd.jupyter.widget-view+json": {
       "model_id": "023d87f06dc14c19aa7bded3f9b07c63",
       "version_major": 2,
       "version_minor": 0
      },
      "text/plain": [
       "HBox(children=(IntProgress(value=0, description='Sampling 4 chains', max=4000000, style=ProgressStyle(descript…"
      ]
     },
     "metadata": {},
     "output_type": "display_data"
    },
    {
     "name": "stdout",
     "output_type": "stream",
     "text": [
      "\n"
     ]
    }
   ],
   "source": [
    "with pm.Model() as model:\n",
    "    theta = pm.Normal(\"theta\", mu=0, sigma=10)\n",
    "    y = pm.Normal(\"y\", mu=theta, sigma=2, observed=0)\n",
    "    trace = pm.sample(draws=700000, chains=4, tune=300000)"
   ]
  },
  {
   "cell_type": "code",
   "execution_count": 8,
   "metadata": {},
   "outputs": [],
   "source": [
    "idata_pymc3 = az.from_pymc3(trace)"
   ]
  },
  {
   "cell_type": "code",
   "execution_count": 51,
   "metadata": {},
   "outputs": [
    {
     "data": {
      "text/plain": [
       "'pymc3_post_autocorr.nc'"
      ]
     },
     "execution_count": 51,
     "metadata": {},
     "output_type": "execute_result"
    }
   ],
   "source": [
    "idata_pymc3.to_netcdf(\"pymc3_post_autocorr.nc\")"
   ]
  },
  {
   "cell_type": "code",
   "execution_count": 4,
   "metadata": {},
   "outputs": [],
   "source": [
    "idata_pymc3 = az.from_netcdf(\"pymc3_post_autocorr.nc\")"
   ]
  },
  {
   "cell_type": "markdown",
   "metadata": {},
   "source": [
    "### Chain average"
   ]
  },
  {
   "cell_type": "code",
   "execution_count": 43,
   "metadata": {},
   "outputs": [],
   "source": [
    "idxs, ess_samples = ess_evolution(idata_pymc3.posterior.theta.values)"
   ]
  },
  {
   "cell_type": "code",
   "execution_count": 44,
   "metadata": {},
   "outputs": [
    {
     "data": {
      "image/png": "[encoded data removed]",
      "text/plain": [
       "<Figure size 432x288 with 1 Axes>"
      ]
     },
     "metadata": {
      "needs_background": "light"
     },
     "output_type": "display_data"
    }
   ],
   "source": [
    "plot_ess_evolution(idata_pymc3.posterior.theta.values, idxs, ess_samples, title=\"PyMC3\")"
   ]
  },
  {
   "cell_type": "markdown",
   "metadata": {},
   "source": [
    "# PyStan"
   ]
  },
  {
   "cell_type": "code",
   "execution_count": 25,
   "metadata": {},
   "outputs": [],
   "source": [
    "stan_code = \"\"\"\n",
    "data {\n",
    "    real y;\n",
    "}\n",
    "\n",
    "parameters {\n",
    "    real theta;\n",
    "}\n",
    "\n",
    "model {\n",
    "    theta ~ normal(0, 10);\n",
    "    y ~ normal(theta, 2);\n",
    "}\n",
    "\"\"\""
   ]
  },
  {
   "cell_type": "code",
   "execution_count": 27,
   "metadata": {},
   "outputs": [
    {
     "name": "stderr",
     "output_type": "stream",
     "text": [
      "INFO:pystan:COMPILING THE C++ CODE FOR MODEL anon_model_738fff88035c46d13370762c41dcc923 NOW.\n"
     ]
    }
   ],
   "source": [
    "stan_model = pystan.StanModel(model_code=stan_code)"
   ]
  },
  {
   "cell_type": "code",
   "execution_count": 28,
   "metadata": {},
   "outputs": [],
   "source": [
    "fit = stan_model.sampling(data={\"y\": 0}, chains=4, iter=10**6, warmup=300000)"
   ]
  },
  {
   "cell_type": "code",
   "execution_count": 29,
   "metadata": {},
   "outputs": [],
   "source": [
    "idata_pystan = az.from_pystan(fit)"
   ]
  },
  {
   "cell_type": "code",
   "execution_count": 52,
   "metadata": {},
   "outputs": [
    {
     "data": {
      "text/plain": [
       "'pystan_post_autocorr.nc'"
      ]
     },
     "execution_count": 52,
     "metadata": {},
     "output_type": "execute_result"
    }
   ],
   "source": [
    "idata_pystan.to_netcdf(\"pystan_post_autocorr.nc\")"
   ]
  },
  {
   "cell_type": "code",
   "execution_count": 5,
   "metadata": {},
   "outputs": [],
   "source": [
    "idata_pystan = az.from_netcdf(\"pystan_post_autocorr.nc\")"
   ]
  },
  {
   "cell_type": "markdown",
   "metadata": {},
   "source": [
    "### Chain average"
   ]
  },
  {
   "cell_type": "code",
   "execution_count": 39,
   "metadata": {},
   "outputs": [],
   "source": [
    "idxs, ess_samples = ess_evolution(idata_pystan.posterior.theta.values)"
   ]
  },
  {
   "cell_type": "code",
   "execution_count": 42,
   "metadata": {},
   "outputs": [
    {
     "data": {
      "image/png": "[encoded data removed]",
      "text/plain": [
       "<Figure size 432x288 with 1 Axes>"
      ]
     },
     "metadata": {
      "needs_background": "light"
     },
     "output_type": "display_data"
    }
   ],
   "source": [
    "plot_ess_evolution(idata_pystan.posterior.theta.values, idxs, ess_samples, title=\"PyStan\")"
   ]
  },
  {
   "cell_type": "markdown",
   "metadata": {},
   "source": [
    "# emcee"
   ]
  },
  {
   "cell_type": "code",
   "execution_count": 2,
   "metadata": {},
   "outputs": [],
   "source": [
    "def lnprob(theta):\n",
    "    return -13 * theta**2 / 100"
   ]
  },
  {
   "cell_type": "code",
   "execution_count": 3,
   "metadata": {},
   "outputs": [
    {
     "name": "stderr",
     "output_type": "stream",
     "text": [
      "100%|██████████| 701000/701000 [05:55<00:00, 1969.63it/s]\n"
     ]
    }
   ],
   "source": [
    "nwalkers = 6\n",
    "ndim = 1\n",
    "draws = 701000\n",
    "pos = np.random.normal(size=(nwalkers, ndim))\n",
    "sampler = emcee.EnsembleSampler(nwalkers, ndim, lnprob)\n",
    "sampler.run_mcmc(pos, draws, progress=True);"
   ]
  },
  {
   "cell_type": "code",
   "execution_count": 4,
   "metadata": {},
   "outputs": [],
   "source": [
    "idata_emcee = az.from_emcee(sampler, var_names=[\"theta\"])\n",
    "idata_emcee.sel(draw=slice(1000, None))"
   ]
  },
  {
   "cell_type": "code",
   "execution_count": 14,
   "metadata": {},
   "outputs": [
    {
     "data": {
      "text/plain": [
       "'emcee_post_autocorr.nc'"
      ]
     },
     "execution_count": 14,
     "metadata": {},
     "output_type": "execute_result"
    }
   ],
   "source": [
    "idata_emcee.to_netcdf(\"emcee_post_autocorr.nc\")"
   ]
  },
  {
   "cell_type": "code",
   "execution_count": 2,
   "metadata": {},
   "outputs": [],
   "source": [
    "idata_emcee = az.from_netcdf(\"emcee_post_autocorr.nc\")"
   ]
  },
  {
   "cell_type": "markdown",
   "metadata": {},
   "source": [
    "### Chain average"
   ]
  },
  {
   "cell_type": "code",
   "execution_count": 9,
   "metadata": {},
   "outputs": [],
   "source": [
    "idxs, ess_samples = ess_evolution(idata_emcee.posterior.theta.values)"
   ]
  },
  {
   "cell_type": "code",
   "execution_count": 10,
   "metadata": {},
   "outputs": [
    {
     "data": {
      "image/png": "[encoded data removed]",
      "text/plain": [
       "<Figure size 432x288 with 1 Axes>"
      ]
     },
     "metadata": {
      "needs_background": "light"
     },
     "output_type": "display_data"
    }
   ],
   "source": [
    "plot_ess_evolution(idata_emcee.posterior.theta.values, idxs, ess_samples, title=\"emcee\")"
   ]
  },
  {
   "cell_type": "markdown",
   "metadata": {},
   "source": [
    "## Check all samplers got the same posterior"
   ]
  },
  {
   "cell_type": "code",
   "execution_count": 15,
   "metadata": {},
   "outputs": [
    {
     "data": {
      "text/plain": [
       "array([<matplotlib.axes._subplots.AxesSubplot object at 0x7fcb25fa3be0>],\n",
       "      dtype=object)"
      ]
     },
     "execution_count": 15,
     "metadata": {},
     "output_type": "execute_result"
    },
    {
     "data": {
      "image/png": "[encoded data removed]",
      "text/plain": [
       "<Figure size 432x288 with 1 Axes>"
      ]
     },
     "metadata": {
      "needs_background": "light"
     },
     "output_type": "display_data"
    }
   ],
   "source": [
    "az.plot_density([idata_emcee, idata_pystan, idata_pymc3])"
   ]
  },
  {
   "cell_type": "code",
   "execution_count": null,
   "metadata": {},
   "outputs": [],
   "source": []
  }
 ],
 "metadata": {
  "kernelspec": {
   "display_name": "Python 3",
   "language": "python",
   "name": "python3"
  },
  "language_info": {
   "codemirror_mode": {
    "name": "ipython",
    "version": 3
   },
   "file_extension": ".py",
   "mimetype": "text/x-python",
   "name": "python",
   "nbconvert_exporter": "python",
   "pygments_lexer": "ipython3",
   "version": "3.6.8"
  }
 },
 "nbformat": 4,
 "nbformat_minor": 2
}
